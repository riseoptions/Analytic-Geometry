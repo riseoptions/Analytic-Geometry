{
  "nbformat": 4,
  "nbformat_minor": 0,
  "metadata": {
    "colab": {
      "provenance": [],
      "authorship_tag": "ABX9TyMjMtKqbZQNYWoOPuHOhuqF",
      "include_colab_link": true
    },
    "kernelspec": {
      "name": "python3",
      "display_name": "Python 3"
    },
    "language_info": {
      "name": "python"
    }
  },
  "cells": [
    {
      "cell_type": "markdown",
      "metadata": {
        "id": "view-in-github",
        "colab_type": "text"
      },
      "source": [
        "<a href=\"https://colab.research.google.com/github/riseoptions/Analytic-Geometry/blob/main/ITO_Test_1/Colab/TRACES_NT_P%C3%A4ringud.ipynb\" target=\"_parent\"><img src=\"https://colab.research.google.com/assets/colab-badge.svg\" alt=\"Open In Colab\"/></a>"
      ]
    },
    {
      "cell_type": "markdown",
      "source": [
        "# **TRACES-NT**"
      ],
      "metadata": {
        "id": "4N2i_xxOmI0F"
      }
    },
    {
      "cell_type": "markdown",
      "source": [
        "Siin on kokkuvõte TRACES-NT päringutest koos selgituste ja näidetega:  \n",
        "\n",
        "---\n",
        "\n",
        "## **TRACES-NT Päringud – Ülevaade ja Selgitused**  \n",
        "\n",
        "TRACES-NT (Trade Control and Expert System New Technology) on Euroopa Liidu süsteem, mida kasutatakse veterinaarsertifikaatide, taimede tervisetõendite ja muude dokumentide jälgimiseks ning haldamiseks.  \n",
        "\n",
        "**Eesmärk:**  \n",
        "Päringud TRACES-NT süsteemi võimaldavad saada infot **Eestist väljaviidavate** ja **Eestisse toodavate** sertifikaatide kohta.  \n",
        "\n",
        "---\n",
        "\n",
        "## **1. Päringute Tegemiseks Vajalikud Eeldused**  \n",
        "\n",
        "### **1.1 Privileegid ja Autentimine**  \n",
        "TRACES-NT teenustesse päringute tegemiseks on vaja autentimist järgnevate andmetega:  \n",
        "- **Kasutajatunnus (Username)** – unikaalne kasutajanimi.  \n",
        "- **Parool (WS key/password)** – teenusele ligipääsuks vajalik salasõna.  \n",
        "- **Kliendi ID (WS client ID)** – teenuse kasutaja identifikaator.  \n",
        "- **Õigus käivitada taustaprotsesse** – vajalik privileeg **TAUSTATOO_KAIVITAMINE**.  \n",
        "\n",
        "---\n",
        "\n",
        "## **2. Päringu Tööprotsess**  \n",
        "\n",
        "1. **Esmane päring:**  \n",
        "   - Kasutatakse teenust **findEuIntraCertificate**, mis otsib TRACES-NT süsteemist sertifikaate vastavalt antud kriteeriumidele (nt ajavahemik, staatus).  \n",
        "   - Sertifikaadi **staatus** peab olema **\"Validated\" (kood 70)**.  \n",
        "   - Päringusse saab lisada ka ajavahemiku, mille jooksul toimunud muutusi otsitakse.  \n",
        "\n",
        "2. **Detailandmete pärimine:**  \n",
        "   - Kui **findEuIntraCertificate** päring tagastab sertifikaatide nimekirja, tehakse iga saadud sertifikaadi kohta eraldi päring **getEuIntraCertificate** teenusele.  \n",
        "   - See päring tagastab konkreetse sertifikaadi täielikud detailandmed.  \n",
        "\n",
        "3. **Andmete salvestamine:**  \n",
        "   - Viimaste päringute info salvestatakse kohalikus andmebaasis tabelisse **TRACES_PARINGUD**, et oleks võimalik jälgida, milliseid päringuid on juba tehtud.  \n",
        "\n",
        "---\n",
        "\n",
        "## **3. Sisendparameetrid ja Kasutamine**  \n",
        "\n",
        "### **3.1 Sertifikaatide päring ajavahemiku alusel**  \n",
        "**Teenuse nimi:** `findEuIntraCertificate`  \n",
        "**Sisendparameetrid:**  \n",
        "- **Staatus** → `Validated (70)`  \n",
        "- **Muudatused alates** → (`start_date`)  \n",
        "- **Muudatused kuni** → (`end_date`)  \n",
        "\n",
        "📌 **Näide:**  \n",
        "Kui soovime leida kõik **Eesti päritolu sertifikaadid**, mida on **muudetud ajavahemikus 01.01.2024 – 31.03.2024**, siis SOAP-päring võiks välja näha järgmine:  \n",
        "\n",
        "```xml\n",
        "<v1:FindEuIntraCertificateRequest pageSize=\"100\" offset=\"0\">\n",
        "    <v1:Status listID=\"4405\" listAgencyID=\"6\" listVersionID=\"D16B\">70</v1:Status>\n",
        "    <v1:UpdateDateTimeRange>\n",
        "        <v4:From>2024-01-01T00:00:00Z</v4:From>\n",
        "        <v4:To>2024-03-31T23:59:59Z</v4:To>\n",
        "    </v1:UpdateDateTimeRange>\n",
        "</v1:FindEuIntraCertificateRequest>\n",
        "```\n",
        "\n",
        "---\n",
        "\n",
        "### **3.2 Konkreetse sertifikaadi detailandmete pärimine**  \n",
        "**Teenuse nimi:** `getEuIntraCertificate`  \n",
        "**Sisendparameeter:**  \n",
        "- **Sertifikaadi number**  \n",
        "\n",
        "📌 **Näide:**  \n",
        "Kui saime `findEuIntraCertificate` päringust sertifikaadi `INTRA.EU.EE.2025.0000002`, siis selle detailandmete päring võiks olla järgmine:\n",
        "\n",
        "```xml\n",
        "<v1:GetEuIntraCertificateRequest>\n",
        "    <v1:CertificateNumber>INTRA.EU.EE.2025.0000002</v1:CertificateNumber>\n",
        "</v1:GetEuIntraCertificateRequest>\n",
        "```\n",
        "\n",
        "---\n",
        "\n",
        "## **4. Kokkuvõte**  \n",
        "✅ **Esmalt tehakse päring** (`findEuIntraCertificate`), et leida sertifikaadid vastavalt staatuskoodile `70` ja ajavahemikule.  \n",
        "✅ **Seejärel tehakse iga leitud sertifikaadi kohta täiendav päring** (`getEuIntraCertificate`), et saada täpsemad detailid.  \n",
        "✅ **Tulemused salvestatakse andmebaasi**, et vältida samade andmete korduvat pärimist.  \n",
        "\n",
        "**📌 Kasutusvõimalused:**  \n",
        "🔹 Saab jälgida Eesti ettevõtete **eksporti ja importi**.  \n",
        "🔹 Võimalik **monitoorida ja analüüsida** EL-i siseseid kaubavooge.  \n",
        "🔹 Võimaldab **automatiseerida aruandlust** ja jälgida reaalajas sertifikaatide olekut.  \n",
        "\n",
        "Kas see selgitus aitab? 😊"
      ],
      "metadata": {
        "id": "cRY66IEEl-D_"
      }
    },
    {
      "cell_type": "code",
      "execution_count": null,
      "metadata": {
        "id": "-jOy8X-tl1tJ"
      },
      "outputs": [],
      "source": []
    }
  ]
}